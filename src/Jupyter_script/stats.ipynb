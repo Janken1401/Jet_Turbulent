{
 "cells": [
  {
   "cell_type": "code",
   "id": "6c0f62b32547f37",
   "metadata": {
    "ExecuteTime": {
     "end_time": "2024-11-02T11:10:09.205329Z",
     "start_time": "2024-11-02T11:10:07.998703Z"
    }
   },
   "source": [
    "from src.Field.post_process import PostProcess\n",
    "\n",
    "postProcess = PostProcess(0.4, 1)"
   ],
   "outputs": [],
   "execution_count": 1
  },
  {
   "metadata": {
    "collapsed": true,
    "ExecuteTime": {
     "end_time": "2024-11-02T11:10:09.305116Z",
     "start_time": "2024-11-02T11:10:09.213321Z"
    }
   },
   "cell_type": "code",
   "source": [
    "\n",
    "stats = postProcess.fields_stats()\n",
    "print(stats)"
   ],
   "id": "initial_id",
   "outputs": [
    {
     "name": "stdout",
     "output_type": "stream",
     "text": [
      "                 rho             ux             ur              P  \\\n",
      "count  956961.000000  956961.000000  956961.000000  956961.000000   \n",
      "mean        1.023637       0.296688       0.000666       0.715350   \n",
      "std         0.053088       0.296796       0.009977       0.010151   \n",
      "min         0.997158       0.001569      -0.030762       0.595954   \n",
      "25%         0.999616       0.017887      -0.005918       0.714247   \n",
      "50%         1.000632       0.263487       0.001733       0.714592   \n",
      "75%         1.015361       0.430964       0.007254       0.715103   \n",
      "max         1.330513       1.118812       0.024639       0.840572   \n",
      "\n",
      "                   T  \n",
      "count  956961.000000  \n",
      "mean        2.451121  \n",
      "std         0.105298  \n",
      "min         2.004277  \n",
      "25%         2.465587  \n",
      "50%         2.499461  \n",
      "75%         2.500685  \n",
      "max         2.507450  \n"
     ]
    }
   ],
   "execution_count": 2
  }
 ],
 "metadata": {
  "kernelspec": {
   "display_name": "Python 3",
   "language": "python",
   "name": "python3"
  },
  "language_info": {
   "codemirror_mode": {
    "name": "ipython",
    "version": 2
   },
   "file_extension": ".py",
   "mimetype": "text/x-python",
   "name": "python",
   "nbconvert_exporter": "python",
   "pygments_lexer": "ipython2",
   "version": "2.7.6"
  }
 },
 "nbformat": 4,
 "nbformat_minor": 5
}

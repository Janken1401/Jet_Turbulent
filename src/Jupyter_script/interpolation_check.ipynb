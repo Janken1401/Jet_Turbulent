{
 "cells": [
  {
   "metadata": {
    "ExecuteTime": {
     "end_time": "2024-11-05T11:19:18.832032Z",
     "start_time": "2024-11-05T11:19:17.082333Z"
    }
   },
   "cell_type": "code",
   "source": [
    "%load_ext autoreload\n",
    "%autoreload 2\n",
    "import matplotlib.pyplot as plt\n",
    "from src.Field.perturbation_field import PerturbationField\n",
    "from src.ReadData.read_radius import get_r_grid"
   ],
   "id": "a2c2c58c866cfcc8",
   "outputs": [],
   "execution_count": 1
  },
  {
   "metadata": {
    "ExecuteTime": {
     "end_time": "2024-11-05T11:19:20.611780Z",
     "start_time": "2024-11-05T11:19:19.849929Z"
    }
   },
   "cell_type": "code",
   "source": [
    "r_grid = get_r_grid()\n",
    "pert_field = PerturbationField()\n",
    "rans_field = pert_field.rans_field\n",
    "rans_values = rans_field.values"
   ],
   "id": "33ad7b349e9e578a",
   "outputs": [],
   "execution_count": 2
  },
  {
   "metadata": {},
   "cell_type": "markdown",
   "source": "",
   "id": "395acff969fc9c8d"
  },
  {
   "metadata": {
    "ExecuteTime": {
     "end_time": "2024-11-05T11:19:22.283278Z",
     "start_time": "2024-11-05T11:19:22.162299Z"
    }
   },
   "cell_type": "code",
   "source": [
    "# Extract specific fields for comparison\n",
    "x = rans_values['x']\n",
    "r = rans_values['r']\n",
    "\n",
    "\n",
    "\n",
    "ux = rans_values['ux']"
   ],
   "id": "bef0d923bcc454ef",
   "outputs": [],
   "execution_count": 3
  },
  {
   "metadata": {
    "ExecuteTime": {
     "end_time": "2024-11-05T11:26:33.851870Z",
     "start_time": "2024-11-05T11:26:33.626177Z"
    }
   },
   "cell_type": "code",
   "source": [
    "x_pse = pert_field.x_grid\n",
    "\n",
    "rans_field.interpolate(x_pse)\n",
    "ux_interp = rans_field.interpolated_values['ux']\n"
   ],
   "id": "a53f9a8a4855cc31",
   "outputs": [],
   "execution_count": 6
  },
  {
   "metadata": {},
   "cell_type": "code",
   "source": [
    "# Define r indices for comparison\n",
    "r_indices = [0, 10, 20, 30, 40, 50, 55, 60, 65, 66]  # Adjust indices as needed for specific r values\n",
    "num_plots = len(r_indices)\n",
    "\n",
    "# Set up the grid dimensions for subplots\n",
    "rows, cols = 2, (num_plots + 1) // 2  # 2 rows and enough columns to fit all plots\n",
    "fig, axes = plt.subplots(rows, cols, figsize=(15, 10))\n",
    "fig.suptitle('RANS vs. Interpolated Values at Various r Slices')\n",
    "\n",
    "# Flatten the axes for easy indexing\n",
    "axes = axes.flatten()\n",
    "\n",
    "# Loop over r indices and plot the comparisons\n",
    "for idx, r_idx in enumerate(r_indices):\n",
    "    ax = axes[idx]\n",
    "    ax.plot(x.iloc[:, r_idx], ux.iloc[:, r_idx], label='RANS', color='blue')\n",
    "    ax.plot(pert_field.x_grid[:][r_idx], ux_interp[:][r_idx], label='Interpolated', linestyle='--', color='red')\n",
    "\n",
    "    ax.set_title(f'Comparison at r index {r_idx}')\n",
    "    ax.set_xlabel('x')\n",
    "    if idx % cols == 0:\n",
    "        ax.set_ylabel('ux')\n",
    "    ax.legend()\n",
    "\n",
    "# Hide any unused subplots\n",
    "for ax in axes[num_plots:]:\n",
    "    ax.set_visible(False)\n",
    "\n",
    "plt.tight_layout()\n",
    "plt.show()"
   ],
   "id": "b91d3a88493691a0",
   "outputs": [],
   "execution_count": null
  },
  {
   "metadata": {},
   "cell_type": "markdown",
   "source": "",
   "id": "c1280fd23f3ff8af"
  }
 ],
 "metadata": {
  "kernelspec": {
   "display_name": "Python 3",
   "language": "python",
   "name": "python3"
  },
  "language_info": {
   "codemirror_mode": {
    "name": "ipython",
    "version": 2
   },
   "file_extension": ".py",
   "mimetype": "text/x-python",
   "name": "python",
   "nbconvert_exporter": "python",
   "pygments_lexer": "ipython2",
   "version": "2.7.6"
  }
 },
 "nbformat": 4,
 "nbformat_minor": 5
}

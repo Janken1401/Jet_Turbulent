{
 "cells": [
  {
   "metadata": {
    "ExecuteTime": {
     "end_time": "2024-11-09T19:15:20.903700Z",
     "start_time": "2024-11-09T19:15:20.838157Z"
    }
   },
   "cell_type": "code",
   "source": [
    "import numpy as np\n",
    "%load_ext autoreload\n",
    "%autoreload 2\n",
    "from src.Field.perturbation_field import PerturbationField"
   ],
   "id": "8729688175290e49",
   "outputs": [
    {
     "name": "stdout",
     "output_type": "stream",
     "text": [
      "The autoreload extension is already loaded. To reload it, use:\n",
      "  %reload_ext autoreload\n"
     ]
    }
   ],
   "execution_count": 20
  },
  {
   "metadata": {
    "ExecuteTime": {
     "end_time": "2024-11-09T19:15:23.206552Z",
     "start_time": "2024-11-09T19:15:23.071304Z"
    }
   },
   "cell_type": "code",
   "source": [
    "pert = PerturbationField(0.4, 1)\n",
    "q_tot = pert.compute_total_field()"
   ],
   "id": "f76701b44afb022a",
   "outputs": [
    {
     "ename": "ValueError",
     "evalue": "list.remove(x): x not in list",
     "output_type": "error",
     "traceback": [
      "\u001B[1;31m---------------------------------------------------------------------------\u001B[0m",
      "\u001B[1;31mValueError\u001B[0m                                Traceback (most recent call last)",
      "Cell \u001B[1;32mIn[21], line 1\u001B[0m\n\u001B[1;32m----> 1\u001B[0m pert \u001B[38;5;241m=\u001B[39m PerturbationField(\u001B[38;5;241m0.4\u001B[39m, \u001B[38;5;241m1\u001B[39m)\n\u001B[0;32m      2\u001B[0m q_tot \u001B[38;5;241m=\u001B[39m pert\u001B[38;5;241m.\u001B[39mcompute_total_field()\n",
      "File \u001B[1;32m~\\Documents\\M2\\Prog_Mod\\Jet_Turbulent\\src\\Field\\perturbation_field.py:50\u001B[0m, in \u001B[0;36mPerturbationField.__init__\u001B[1;34m(self, St, ID_MACH, verbose)\u001B[0m\n\u001B[0;32m     48\u001B[0m \u001B[38;5;28mself\u001B[39m\u001B[38;5;241m.\u001B[39mSt \u001B[38;5;241m=\u001B[39m St\n\u001B[0;32m     49\u001B[0m \u001B[38;5;28mself\u001B[39m\u001B[38;5;241m.\u001B[39mID_MACH \u001B[38;5;241m=\u001B[39m ID_MACH\n\u001B[1;32m---> 50\u001B[0m \u001B[38;5;28mself\u001B[39m\u001B[38;5;241m.\u001B[39m__get_raw_perturbation_values()\n\u001B[0;32m     51\u001B[0m \u001B[38;5;28mself\u001B[39m\u001B[38;5;241m.\u001B[39mrans_values \u001B[38;5;241m=\u001B[39m \u001B[38;5;28mself\u001B[39m\u001B[38;5;241m.\u001B[39minterpolate()\n",
      "File \u001B[1;32m~\\Documents\\M2\\Prog_Mod\\Jet_Turbulent\\src\\Field\\perturbation_field.py:234\u001B[0m, in \u001B[0;36mPerturbationField.__get_raw_perturbation_values\u001B[1;34m(self)\u001B[0m\n\u001B[0;32m    232\u001B[0m nr \u001B[38;5;241m=\u001B[39m \u001B[38;5;28mrange\u001B[39m(\u001B[38;5;28mlen\u001B[39m(get_r_grid()))\n\u001B[0;32m    233\u001B[0m perturbation_dict \u001B[38;5;241m=\u001B[39m {}\n\u001B[1;32m--> 234\u001B[0m \u001B[38;5;28mself\u001B[39m\u001B[38;5;241m.\u001B[39mpse_quantities\u001B[38;5;241m.\u001B[39mremove((\u001B[38;5;124m'\u001B[39m\u001B[38;5;124mx\u001B[39m\u001B[38;5;124m'\u001B[39m, \u001B[38;5;124m'\u001B[39m\u001B[38;5;124mr\u001B[39m\u001B[38;5;124m'\u001B[39m))\n\u001B[0;32m    235\u001B[0m \u001B[38;5;28;01mfor\u001B[39;00m quantity \u001B[38;5;129;01min\u001B[39;00m \u001B[38;5;28mself\u001B[39m\u001B[38;5;241m.\u001B[39mpse_quantities:\n\u001B[0;32m    236\u001B[0m     quantity_df \u001B[38;5;241m=\u001B[39m full_data\u001B[38;5;241m.\u001B[39mpivot(index\u001B[38;5;241m=\u001B[39m\u001B[38;5;124m'\u001B[39m\u001B[38;5;124mx\u001B[39m\u001B[38;5;124m'\u001B[39m, columns\u001B[38;5;241m=\u001B[39m\u001B[38;5;124m'\u001B[39m\u001B[38;5;124mr\u001B[39m\u001B[38;5;124m'\u001B[39m, values\u001B[38;5;241m=\u001B[39mquantity)\n",
      "\u001B[1;31mValueError\u001B[0m: list.remove(x): x not in list"
     ]
    }
   ],
   "execution_count": 21
  }
 ],
 "metadata": {
  "kernelspec": {
   "display_name": "Python 3",
   "language": "python",
   "name": "python3"
  },
  "language_info": {
   "codemirror_mode": {
    "name": "ipython",
    "version": 2
   },
   "file_extension": ".py",
   "mimetype": "text/x-python",
   "name": "python",
   "nbconvert_exporter": "python",
   "pygments_lexer": "ipython2",
   "version": "2.7.6"
  }
 },
 "nbformat": 4,
 "nbformat_minor": 5
}

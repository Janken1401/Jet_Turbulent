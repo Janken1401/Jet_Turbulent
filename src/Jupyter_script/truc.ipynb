{
 "cells": [
  {
   "metadata": {
    "ExecuteTime": {
     "end_time": "2024-11-08T16:07:13.206900Z",
     "start_time": "2024-11-08T16:07:13.067462Z"
    }
   },
   "cell_type": "code",
   "source": [
    "import numpy as np\n",
    "%load_ext autoreload\n",
    "%autoreload 2\n",
    "from src.Field.perturbation_field import PerturbationField"
   ],
   "id": "8729688175290e49",
   "outputs": [
    {
     "name": "stdout",
     "output_type": "stream",
     "text": [
      "The autoreload extension is already loaded. To reload it, use:\n",
      "  %reload_ext autoreload\n"
     ]
    }
   ],
   "execution_count": 7
  },
  {
   "metadata": {
    "ExecuteTime": {
     "end_time": "2024-11-08T16:20:54.092531Z",
     "start_time": "2024-11-08T16:20:53.755964Z"
    }
   },
   "cell_type": "code",
   "source": [
    "pert = PerturbationField(0.4, 1)\n",
    "q_tot = pert.compute_total_field()"
   ],
   "id": "f76701b44afb022a",
   "outputs": [],
   "execution_count": 18
  }
 ],
 "metadata": {
  "kernelspec": {
   "display_name": "Python 3",
   "language": "python",
   "name": "python3"
  },
  "language_info": {
   "codemirror_mode": {
    "name": "ipython",
    "version": 2
   },
   "file_extension": ".py",
   "mimetype": "text/x-python",
   "name": "python",
   "nbconvert_exporter": "python",
   "pygments_lexer": "ipython2",
   "version": "2.7.6"
  }
 },
 "nbformat": 4,
 "nbformat_minor": 5
}

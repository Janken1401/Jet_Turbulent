{
 "cells": [
  {
   "metadata": {
    "ExecuteTime": {
     "end_time": "2024-11-04T22:15:33.806146Z",
     "start_time": "2024-11-04T22:15:33.798624Z"
    }
   },
   "cell_type": "code",
   "source": [
    "import pandas as pd\n",
    "from scipy.io import loadmat\n",
    "import numpy as np \n",
    "\n",
    "from ReadData.read_radius import get_r_grid\n",
    "from toolbox.path_directories import DIR_MEAN, DIR_STABILITY, RANS_FILES\n"
   ],
   "id": "f2deb4d4db3af24a",
   "outputs": [],
   "execution_count": 37
  },
  {
   "metadata": {
    "collapsed": true,
    "ExecuteTime": {
     "end_time": "2024-11-04T22:15:33.841289Z",
     "start_time": "2024-11-04T22:15:33.827645Z"
    }
   },
   "cell_type": "code",
   "source": [
    "names = ['x', 'r', 'rho', 'ux', 'ur', 'ut', 'T', 'P']\n",
    "rans_file = DIR_MEAN / RANS_FILES[1]\n",
    "rans_field_array = loadmat(rans_file)['arr']"
   ],
   "id": "initial_id",
   "outputs": [],
   "execution_count": 38
  },
  {
   "metadata": {
    "ExecuteTime": {
     "end_time": "2024-11-04T22:19:47.739731Z",
     "start_time": "2024-11-04T22:19:47.723276Z"
    }
   },
   "cell_type": "code",
   "source": [
    "Nx, Nr, Nvalues = rans_field_array.shape  # 536, 69, 8\n",
    "r = get_r_grid()\n",
    "\n",
    "x_grid = pd.DataFrame(rans_field_array[:, :, 0], columns=range(Nr), index=range(Nx))\n",
    "\n",
    "x_mask = (x_grid.iloc[:, 0] >= 0) & (x_grid.iloc[:, 0] <= 10)\n",
    "r_mask = np.logical_and (0<=r ,r <=3)\n",
    "\n"
   ],
   "id": "a792cb558379e086",
   "outputs": [],
   "execution_count": 48
  },
  {
   "metadata": {
    "ExecuteTime": {
     "end_time": "2024-11-04T22:20:25.225763Z",
     "start_time": "2024-11-04T22:20:25.201978Z"
    }
   },
   "cell_type": "code",
   "source": [
    "ux = pd.DataFrame(rans_field_array[:, :, 2], columns=range(Nr), index=range(Nx))\n",
    "ux_sub = ux.loc[x_mask, r_mask]"
   ],
   "id": "82a84e821dd9375d",
   "outputs": [],
   "execution_count": 50
  }
 ],
 "metadata": {
  "kernelspec": {
   "display_name": "Python 3",
   "language": "python",
   "name": "python3"
  },
  "language_info": {
   "codemirror_mode": {
    "name": "ipython",
    "version": 2
   },
   "file_extension": ".py",
   "mimetype": "text/x-python",
   "name": "python",
   "nbconvert_exporter": "python",
   "pygments_lexer": "ipython2",
   "version": "2.7.6"
  }
 },
 "nbformat": 4,
 "nbformat_minor": 5
}
